{
 "cells": [
  {
   "cell_type": "code",
   "execution_count": 1,
   "metadata": {},
   "outputs": [],
   "source": [
    "from align import read_fasta, NeedlemanWunsch"
   ]
  },
  {
   "cell_type": "code",
   "execution_count": 2,
   "metadata": {},
   "outputs": [],
   "source": [
    "test3, test3_header = read_fasta('data/test_seq3.fa')\n",
    "test4, test4_header = read_fasta('data/test_seq4.fa')\n",
    "\n",
    "nw = NeedlemanWunsch(\"substitution_matrices/BLOSUM62.mat\", gap_open=-10, gap_extend=-1)"
   ]
  },
  {
   "cell_type": "code",
   "execution_count": 3,
   "metadata": {},
   "outputs": [
    {
     "data": {
      "text/plain": [
       "(np.float64(18.0), 'MAVHQLIRRP', 'MQ---LIRHP')"
      ]
     },
     "execution_count": 3,
     "metadata": {},
     "output_type": "execute_result"
    }
   ],
   "source": [
    "nw.align(test3, test4)"
   ]
  },
  {
   "cell_type": "code",
   "execution_count": 4,
   "metadata": {},
   "outputs": [
    {
     "name": "stdout",
     "output_type": "stream",
     "text": [
      "[[  0. -inf -inf -inf -inf -inf -inf -inf]\n",
      " [-inf   5. -10.  -9. -11. -14. -16. -17.]\n",
      " [-inf -11.   4.  -6.  -7.  -8. -10. -10.]\n",
      " [-inf -10.  -7.   5.  -3. -10. -11. -11.]\n",
      " [-inf -14.  -6.  -9.   2.  -3.   2.  -9.]\n",
      " [-inf -13.  -2.  -8.  -8.   3.  -3.   1.]\n",
      " [-inf -12. -10.   2.  -4. -10.   0.  -6.]\n",
      " [-inf -14. -12.  -7.   6.  -7. -10.  -3.]\n",
      " [-inf -17.  -9. -12. -10.  11.  -4.  -7.]\n",
      " [-inf -18. -10. -11. -12.   1.  11.  -1.]\n",
      " [-inf -20. -13. -13. -13.  -7.  -1.  18.]]\n"
     ]
    }
   ],
   "source": [
    "print(nw._align_matrix)"
   ]
  },
  {
   "cell_type": "code",
   "execution_count": null,
   "metadata": {},
   "outputs": [],
   "source": []
  }
 ],
 "metadata": {
  "kernelspec": {
   "display_name": "base",
   "language": "python",
   "name": "python3"
  },
  "language_info": {
   "codemirror_mode": {
    "name": "ipython",
    "version": 3
   },
   "file_extension": ".py",
   "mimetype": "text/x-python",
   "name": "python",
   "nbconvert_exporter": "python",
   "pygments_lexer": "ipython3",
   "version": "3.12.2"
  }
 },
 "nbformat": 4,
 "nbformat_minor": 2
}
